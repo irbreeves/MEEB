{
 "cells": [
  {
   "cell_type": "markdown",
   "id": "45335ade-dd65-4784-9581-f6c1159748f6",
   "metadata": {},
   "source": [
    "# *MEEB* Run Script Tutorial - Deterministic Version\n",
    "\n",
    "Notebook tutorial for running the Mesoscale Explicit Ecogeomorphic Barrier model (*MEEB*) v1.1 deterministically. After exploring this notebook first, see the notebook `run_MEEB_Probabilistic.ipynb` for a tutorial on running MEEB *probabilistically*.\n",
    "\n",
    "For general model information and installation instructions, see the `README` in the main project directory.\n",
    "\n",
    "To run *MEEB* deterministically outside of this notebook, execute the `run_MEEB.py` script located in the `/Tools` folder, upon which the code in this tutorial is based. The run script should be executed from the main directory to access required inputs.\n",
    "\n",
    "Last updated: 26 June 2025"
   ]
  },
  {
   "cell_type": "markdown",
   "id": "c7fd0493-dd18-4427-bb62-6ed1d7a6dcd1",
   "metadata": {},
   "source": [
    "## Variables and Initializations\n",
    "\n",
    "First, import model requirements. This includes model functions stored in the `routines_meeb.py` file and the model class `MEEB` from the main `meeb.py` file. "
   ]
  },
  {
   "cell_type": "code",
   "execution_count": null,
   "id": "030feac9-d7e1-4b24-9d5d-d9a3ca318fe3",
   "metadata": {},
   "outputs": [],
   "source": [
    "import numpy as np\n",
    "import matplotlib.pyplot as plt\n",
    "import copy\n",
    "from tqdm import trange\n",
    "import os\n",
    "\n",
    "os.chdir(os.path.pardir)  # Set the working directory to the main MEEB folder (the parent directory of the Notebooks subdirectory)\n",
    "\n",
    "import routines_meeb as routine \n",
    "from meeb import MEEB"
   ]
  },
  {
   "cell_type": "markdown",
   "id": "dd43c6f6-a883-4607-bf7f-8e487371ce49",
   "metadata": {},
   "source": [
    "Check that the current working directory is the main MEEB directory (not its Notebooks subdirectory where the notebook is stored)."
   ]
  },
  {
   "cell_type": "code",
   "execution_count": null,
   "id": "e363b70f-f7da-4510-8b44-7d35a010fde8",
   "metadata": {},
   "outputs": [],
   "source": [
    "print(os.getcwd())"
   ]
  },
  {
   "cell_type": "markdown",
   "id": "dc0fdc67-9a59-4fb9-b9b5-826abfb8f31d",
   "metadata": {},
   "source": [
    "Next, create an instance of the MEEB class and define model input parameter values. All inputs parameters not defined here (there are many more than given below!) will follow their *default* values/specifications defined in the `meeb.py` file.\n",
    "\n",
    "For this tutorial, we will run a 5-yr-long deterministic forecast for a 500 m section of North Core Banks, NC, USA, beginning October 2018 and ending October 2023. You can experiment by change the parameters values below. For example changing the alongshore domain boundary min and max will change the location on North Core Banks and/or size of the model domain. The initial elevation and vegetation file used in this tutorial covers onlt a 5 km portion of North Core Banks; the init file that covers the entirety of North Core Banks is too large for storing in this repository."
   ]
  },
  {
   "cell_type": "code",
   "execution_count": null,
   "id": "8a4fbfe3-e133-440a-827f-d35df932bb06",
   "metadata": {},
   "outputs": [],
   "source": [
    "# Create an instance of the MEEB class\n",
    "meeb = MEEB(\n",
    "    name=\"MEEB Deterministic Run Script Tutorial\",\n",
    "    simulation_time_yr=5,  # [yr] Duration of simulation\n",
    "    cellsize=2,  # [m] Horizontal cell dimensions\n",
    "    alongshore_domain_boundary_min=250,  # [cellsize] Alongshore minimum coordinate\n",
    "    alongshore_domain_boundary_max=750,  # [cellsize] Alongshore maximum coordinate\n",
    "    crossshore_domain_boundary_min=100,  # [cellsize] Cross-shore minimum coordinate\n",
    "    crossshore_domain_boundary_max=850,  # [cellsize] Cross-shore maximum coordinate\n",
    "    RSLR=0.0124,  # [m/yr] Relative sea-level rise rate\n",
    "    init_filename=\"Init_NCB-NewDrum-Ocracoke_2018_PostFlorence_18400-23400.npy\",  # Initial elevation and vegetation file, stored in the Input folder\n",
    "    simulation_start_date=\"20181007\",  # [yyyymmdd] Date at which to begin the simulation; should be date of initial elevation/vegetation capture\n",
    "    seeded_random_numbers=True,  # [bool] Determines whether to use seeded random number generator for reproducibility\n",
    ")"
   ]
  },
  {
   "cell_type": "markdown",
   "id": "6d599153-9848-410a-8c87-3e6b65578ca7",
   "metadata": {},
   "source": [
    "## Run the Model\n",
    "\n",
    "To run the model, loop through each timestep using the `update()` function. A progress bar that prints to screen as the model runs is also added. It will likely take 2-5 minutes for this simulation to complete."
   ]
  },
  {
   "cell_type": "code",
   "execution_count": null,
   "id": "cff48652-cbcd-4a35-8f03-04889dd14fd3",
   "metadata": {},
   "outputs": [],
   "source": [
    "# Loop through time\n",
    "with trange(int(meeb.iterations)) as t:\n",
    "    for time_step in t:\n",
    "        # Run time step\n",
    "        meeb.update(time_step)\n",
    "        # Update progress bar\n",
    "        t.set_postfix({'Year': \"{:.2f}\".format((time_step + 1) / meeb.iterations_per_cycle) + '/' + \"{:.2f}\".format(meeb.simulation_time_yr)})\n",
    "        t.update()\n",
    "\n",
    "# Without the progress bar, the code above can be simplified to:\n",
    "# for time_step in range(int(meeb.iterations)):\n",
    "#     meeb.update(time_step)"
   ]
  },
  {
   "cell_type": "markdown",
   "id": "8644fc41-df71-496e-ab6b-09e830c188ec",
   "metadata": {},
   "source": [
    "## Explore Model Results\n",
    "\n",
    "Once the model finishes, we can plot results by accessing data components of the `meeb` object. \n",
    "\n",
    "### Final Elevation and Vegetation\n",
    "For starters, we can plot the topography and vegetation at the end of the simulation."
   ]
  },
  {
   "cell_type": "code",
   "execution_count": null,
   "id": "95eea745-9bd8-4438-96cf-4b71e511f388",
   "metadata": {},
   "outputs": [],
   "source": [
    "# Get final topography and vegetation cover\n",
    "topo_end = meeb.topo_TS[:, :, -1]  # [m NAVDD88] Final recorded topography of simulation\n",
    "veg_end = meeb.spec1_TS[:, :, -1] + meeb.spec2_TS[:, :, -1]  # [0-1] Final recorded vegetation density of simulation\n",
    "\n",
    "# Set up colormaps (with masking)\n",
    "cmap1 = routine.truncate_colormap(copy.copy(plt.colormaps[\"terrain\"]), 0.5, 0.9)  # For topography, modifies the built-in \"terrain\" cmap\n",
    "cmap1.set_bad(color='dodgerblue', alpha=0.5)  # Set cells below MHW to blue\n",
    "\n",
    "cmap2 = copy.copy(plt.colormaps[\"YlGn\"])  # For vegetation\n",
    "cmap2.set_bad(color='dodgerblue', alpha=0.5)  # Set cells below MHW to blue\n",
    "\n",
    "# Plot\n",
    "Fig = plt.figure(figsize=(14, 7.5))\n",
    "Fig.suptitle(meeb.name, fontsize=13)\n",
    "\n",
    "topo_end = np.ma.masked_where(topo_end <= meeb.MHW, topo_end)  # Mask cells below MHW\n",
    "ax1 = Fig.add_subplot(211)\n",
    "cax1 = ax1.matshow(topo_end, cmap=cmap1, vmin=-1, vmax=6.0)  # Plot data with topo colormap\n",
    "cbar = Fig.colorbar(cax1)  # Add colorbar\n",
    "cbar.set_label('Elevation [m]', rotation=270, labelpad=20)\n",
    "\n",
    "ax2 = Fig.add_subplot(212)\n",
    "veg_end = np.ma.masked_where(topo_end <= meeb.MHW, veg_end)  # Mask cells below MHW\n",
    "cax2 = ax2.matshow(veg_end, cmap=cmap2, vmin=0, vmax=1)  # Plot data with veg colormap\n",
    "cbar = Fig.colorbar(cax2)  # Add colorbar\n",
    "cbar.set_label('Vegetation [%]', rotation=270, labelpad=20)\n",
    "\n",
    "plt.tight_layout()\n",
    "plt.show()"
   ]
  },
  {
   "cell_type": "markdown",
   "id": "f4414001-2466-4db1-bffe-6251d060069c",
   "metadata": {},
   "source": [
    "### Change in Elevation and Vegetation\n",
    "We can also examine the change in elevation and vegetation by subtracting the topo and veg domains at the last time step from the topo and veg domains at initial time step."
   ]
  },
  {
   "cell_type": "code",
   "execution_count": null,
   "id": "6fb9aa53-4743-4ab2-a1c7-171039980871",
   "metadata": {},
   "outputs": [],
   "source": [
    "# Get initial topography and vegetation cover\n",
    "topo_start = meeb.topo_TS[:, :, 0]  # [m NAVDD88] Final recorded topography of simulation\n",
    "veg_start = meeb.spec1_TS[:, :, 0] + meeb.spec2_TS[:, :, 0]  # [0-1] Final recorded vegetation density of simulation\n",
    "\n",
    "# Find change from simulation start to end\n",
    "topo_change = topo_end - topo_start  # [m]\n",
    "veg_change = veg_end - veg_start  # [0-1]\n",
    "\n",
    "# Find maximum elevation change (erosion or accretion)\n",
    "cmap_lim = max(abs(np.min(topo_change)), abs(np.max(topo_change)))\n",
    "\n",
    "# Set up colormaps (with masking)\n",
    "cmap3 = copy.copy(plt.colormaps[\"bwr_r\"])\n",
    "cmap3.set_bad(color='dodgerblue', alpha=0.5)  # Set cell color below MHW to blue\n",
    "\n",
    "cmap4 = copy.copy(plt.colormaps[\"BrBG\"])\n",
    "cmap4.set_bad(color='dodgerblue', alpha=0.5)  # Set cell color below MHW to blue\n",
    "\n",
    "# Plot changes\n",
    "Fig = plt.figure(figsize=(14, 7.5))\n",
    "Fig.suptitle(meeb.name, fontsize=13)\n",
    "\n",
    "ax1 = Fig.add_subplot(211)\n",
    "topo_change = np.ma.masked_where(topo_end <= meeb.MHW, topo_change)  # Mask cells below MHW\n",
    "cax1 = ax1.matshow(topo_change, cmap=cmap3, vmin=-cmap_lim, vmax=cmap_lim)\n",
    "cbar = Fig.colorbar(cax1)  # Add colorbar\n",
    "cbar.set_label('Elevation Change [m]', rotation=270, labelpad=20)\n",
    "\n",
    "ax2 = Fig.add_subplot(212)\n",
    "veg_change = np.ma.masked_where(topo_end <= meeb.MHW, veg_change)  # Mask cells below MHW\n",
    "cax2 = ax2.matshow(veg_change, cmap=cmap4, vmin=-1, vmax=1)\n",
    "cbar = Fig.colorbar(cax2)  # Add colorbar\n",
    "cbar.set_label('Vegetation Density Change', rotation=270, labelpad=20)\n",
    "\n",
    "plt.tight_layout()"
   ]
  },
  {
   "cell_type": "markdown",
   "id": "ebc36bc4-3e86-450b-ba71-c3858db2e0fa",
   "metadata": {},
   "source": [
    "### Stochastic Storm Record\n",
    "As another example, we can plot the total water level (TWL) timeseries for storms that stochastically occured in this simulation. As evident in the figure below, the largest storm event (in terms of TWL) occured just after 4 years into the simulation with a TWL of approximately 3.8 m NAVD88."
   ]
  },
  {
   "cell_type": "code",
   "execution_count": null,
   "id": "c164cd39-4793-46ce-ab1e-fde66d70655f",
   "metadata": {},
   "outputs": [],
   "source": [
    "Fig = plt.figure(figsize=(10, 5))\n",
    "storms = meeb.StormRecord\n",
    "twl_it = (((storms[1:, 0] - 1) * meeb.iterations_per_cycle) + storms[1:, 1]) / meeb.iterations_per_cycle\n",
    "plt.scatter(twl_it, storms[1:, 2])\n",
    "plt.xlabel(\"Simulation Years\")\n",
    "plt.ylabel(\"TWL (m NAVD88)\")"
   ]
  },
  {
   "cell_type": "markdown",
   "id": "a3d377cd-86be-4d8b-ab1f-676bc9b798db",
   "metadata": {},
   "source": [
    "Additional plotting examples (including animations across time!) are given in the `run_MEEB.py` runfile script located in the `/Tools` folder. Animations will save in the `/Output/Animation` directory (be sure to create this directory path if it does not already exist)."
   ]
  },
  {
   "cell_type": "markdown",
   "id": "65875710-b0e5-43eb-a664-ca076e540168",
   "metadata": {},
   "source": [
    "## Want to Learn More?\n",
    "\n",
    "You should hopefully now have a good idea how to run a single deterministic *MEEB* simulation. You can explore the effects different parameter values or settings by altering the parameters values/settings in the instantiation of the `MEEB` class (box 3) or adding parameters not included in this tutorial see additional parameter in the `meeb.py` file. For example, try adding saltation_length (in units of cells) and set its value to 3 (its default value was 5), re-run the model, and see how it changes things.\n",
    "\n",
    "`MEEB` can also be run to generate __*probabilistic*__ projections of future change. For a tutorial on running *MEEB* probabilistically, see the `run_MEEB_Probabilistic.ipynb` notebook located in the `Notebooks` folder.\n",
    "\n",
    "MEEB is described in detail in the paper: *Reeves, I. R. B., Ashton, A. D., Lentz, E. L., Sherwood, C. R., Passeri, D. L., & Zeigler., S. L. (2025). Projecting management-relevant change of undeveloped coastal barriers with the Mesoscale Explicit Ecogeomorphic Barrier model (MEEB) v1.0: Geoscientific Model Development Discussions (preprint), https://doi.org/10.5194%2Fgmd-2024-232.* "
   ]
  },
  {
   "cell_type": "code",
   "execution_count": null,
   "id": "2a2e30fa-b126-4f75-931a-4f919fb5bf9e",
   "metadata": {},
   "outputs": [],
   "source": []
  }
 ],
 "metadata": {
  "kernelspec": {
   "display_name": "Python 3 (ipykernel)",
   "language": "python",
   "name": "python3"
  },
  "language_info": {
   "codemirror_mode": {
    "name": "ipython",
    "version": 3
   },
   "file_extension": ".py",
   "mimetype": "text/x-python",
   "name": "python",
   "nbconvert_exporter": "python",
   "pygments_lexer": "ipython3",
   "version": "3.11.4"
  }
 },
 "nbformat": 4,
 "nbformat_minor": 5
}
