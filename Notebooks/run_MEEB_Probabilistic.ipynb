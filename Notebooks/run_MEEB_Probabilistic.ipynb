{
 "cells": [
  {
   "cell_type": "markdown",
   "id": "45335ade-dd65-4784-9581-f6c1159748f6",
   "metadata": {},
   "source": [
    "# *MEEB* Run Script Tutorial - Probabilistic Version\n",
    "\n",
    "Notebook tutorial for running the Mesoscale Explicit Ecogeomorphic Barrier model (*MEEB*) v1.1 probabilistically.\n",
    "\n",
    "Before exploring this notebook, you are encouraged to start with the notebook `run_MEEB_Deterministic.ipynb` for a tutorial on running MEEB deterministically.\n",
    "\n",
    "For general model information and installation instructions, see the `README` in the main project directory.\n",
    "\n",
    "To run *MEEB* probabilistically outside of this notebook, execute the `run_MEEB_Probabilistic.py` script located in the `/Tools` folder, upon which the code in this tutorial is based. The run script should be executed from the main directory to access required inputs.\n",
    "\n",
    "Last updated: 26 June 2025"
   ]
  },
  {
   "cell_type": "markdown",
   "id": "8d351352-90e8-4714-aa85-4f0ce41fbeeb",
   "metadata": {},
   "source": [
    "## Probabilistic Approach\n",
    "Probabilistic projections in *MEEB* account for both the uncertainty in future forcing conditions (e.g., sea-level rise, storminess) and the inherent randomness of natural phenomena. We refer to these as external and intrinsic stochastic components of the system, respectfully.\n",
    "\n",
    "External stochasticity is incorporated by running the model across discrete probability distributions of external drivers. In other words, the model simulates across a set of values for a particular external forcing variable, each with a specific probability of occurrence that collectively sum to 1. Multiple external stochstic elements can be considered together by determining the joint probability of occurence for all possible parameter value combinations.\n",
    "\n",
    "Intrinsic stochasticity is incorporated with a Monte Carlo method that runs a batch of duplicate simulations for each bin of the external forcing probability distribution."
   ]
  },
  {
   "cell_type": "markdown",
   "id": "c7fd0493-dd18-4427-bb62-6ed1d7a6dcd1",
   "metadata": {},
   "source": [
    "## Variables and Initializations\n",
    "\n",
    "To run *MEEB* probabilistically, first import model requirements. This includes model functions stored in the `routines_meeb.py` file and the class `MEEB` from the main `meeb.py` file. "
   ]
  },
  {
   "cell_type": "code",
   "execution_count": null,
   "id": "030feac9-d7e1-4b24-9d5d-d9a3ca318fe3",
   "metadata": {},
   "outputs": [],
   "source": [
    "import numpy as np\n",
    "import matplotlib.pyplot as plt\n",
    "import time\n",
    "import scipy\n",
    "from tqdm import tqdm\n",
    "from matplotlib import colors\n",
    "from joblib import Parallel, delayed\n",
    "import os\n",
    "\n",
    "os.chdir(os.path.pardir)  # Set the working directory to the main MEEB folder (the parent directory of the Notebooks subdirectory)\n",
    "\n",
    "import routines_meeb as routine \n",
    "from meeb import MEEB"
   ]
  },
  {
   "cell_type": "markdown",
   "id": "dd43c6f6-a883-4607-bf7f-8e487371ce49",
   "metadata": {},
   "source": [
    "Check that the current working directory is the main MEEB directory (not its Notebooks subdirectory where the notebook is stored)."
   ]
  },
  {
   "cell_type": "code",
   "execution_count": null,
   "id": "e363b70f-f7da-4510-8b44-7d35a010fde8",
   "metadata": {},
   "outputs": [],
   "source": [
    "print(os.getcwd())"
   ]
  },
  {
   "cell_type": "markdown",
   "id": "a0f36f07-e7c6-447c-818d-31914eaa7dcb",
   "metadata": {},
   "source": [
    "### External Stochastic Elements\n",
    "Now we will define the External Stochastic Elements (ExSE). The code is set up to allow up two different elements (`ExSE_A` and `ExSE_B`; e.g., RSLR and storm intensity), but we will only use one in this tutorial: the relative sea-level rise rate (RSLR). Therefore `ExSE_B_bins` is set to zero (no change) and its probability `ExSE_B_prob` to 1 (i.e., 100% probability of no change in storm intensity). In this example, we define 3 possible RSLR rates in `ExSE_A_bins`, and their probabilities of occurance `ExSE_A_prob` sum to 1."
   ]
  },
  {
   "cell_type": "code",
   "execution_count": null,
   "id": "7736d0a2-82b8-4b61-b883-fbd35dc52dbd",
   "metadata": {},
   "outputs": [],
   "source": [
    "# EXTERNAL STOCHASTIC ELEMENTS (ExSE)\n",
    "# RSLR\n",
    "ExSE_A_bins = [0.0068, 0.0096, 0.0124]  # [m/yr] Bins of future RSLR rates up to 2050\n",
    "ExSE_A_prob = [0.26, 0.55, 0.19]  # Probability of future RSLR bins (must sum to 1.0)\n",
    "\n",
    "# Mean Storm Intensity\n",
    "ExSE_B_bins = [(0, 0)]  # [%] Bins of percent shift in mean storm intensity relative to baseline, in tuples (start, end)\n",
    "ExSE_B_prob = [1]  # Probability of future storm intensity bins (must sum to 1.0)"
   ]
  },
  {
   "cell_type": "markdown",
   "id": "993eda8f-d487-4dd2-bf79-3a783948d327",
   "metadata": {},
   "source": [
    "Next, we will define values, labels, and colors for classifying each cell of the model domain each time step. Here we use 2 classifications schemes: elevation change and frequency of inundation. Elevation change bins each cell based on the difference in elevation of the cell at each timestep relative to its elevation at the simulation start. The inundation classification reflects the number of times each cell is inundated by high-water events, cumulative over time."
   ]
  },
  {
   "cell_type": "code",
   "execution_count": null,
   "id": "31b6304f-f7d0-4fd7-be5a-0ebf3bee8fbd",
   "metadata": {},
   "outputs": [],
   "source": [
    "# CLASSIFICATION SCHEME SPECIFICATIONS\n",
    "elev_classification_label = 'Elevation Change [m]'  # Axes labels on figures\n",
    "elev_class_edges = [-np.inf, -0.5, -0.1, 0.1, 0.5, np.inf]  # [m] Elevation change\n",
    "elev_class_labels = ['< -0.5', '-0.5 - -0.1', '-0.1 - 0.1', '0.1 - 0.5', '> 0.5']\n",
    "elev_class_cmap = colors.ListedColormap(['#ca0020', '#f4a582', '#f7f7f7', '#92c5de', '#0571b0'])  # Red, light red, white, light blue, blue\n",
    "elev_num_classes = len(elev_class_edges) - 1 # Count number of classes in classification schemes\n",
    "cmap_conf = plt.get_cmap('BuPu', 4)  # Colormap for confidence in projection, 4 discrete colors"
   ]
  },
  {
   "cell_type": "markdown",
   "id": "dc0fdc67-9a59-4fb9-b9b5-826abfb8f31d",
   "metadata": {},
   "source": [
    "### Simulation Specifications\n",
    "Next, we will define important simulation input parameters. Any input parameters not defined here (there are many more than given below!) will follow their *default* values/specifications defined in the `meeb.py` file.\n",
    "\n",
    "For this tutorial, we will run a 10-yr-long probabilistic forecast for a 250 m section of North Core Banks, NC, USA, beginning October 2018 and ending October 2028. You can experiment by change the parameters values below. For example changing the alongshore domain boundary min and max will change the location on North Core Banks and/or size of the model domain. The initial elevation and vegetation file used in this tutorial covers only a 5 km portion of North Core Banks; the init file that covers the entirety of North Core Banks is too large for storing in this repository.\n",
    "\n",
    "This example is set up to use 3 duplicate simulations for each RSLR bin; this is an order of magnitude lower than recommended, but will run much faster for the sake of this tutorial. We will also use a cellsize of 2 m."
   ]
  },
  {
   "cell_type": "code",
   "execution_count": null,
   "id": "8a4fbfe3-e133-440a-827f-d35df932bb06",
   "metadata": {},
   "outputs": [],
   "source": [
    "# INITIAL ELEVATION AND VEGETATION FILE\n",
    "start = \"Init_NCB-NewDrum-Ocracoke_2018_PostFlorence_18400-23400_2m.npy\"  # Initial elevation and vegetation file, stored in the Input folder\n",
    "startdate = '20181007'  # [yyyymmdd] Date at which to begin the simulation; should be date of initial elevation/vegetation capture\n",
    "\n",
    "# INITIAL PARAMETERS\n",
    "\n",
    "sim_duration = 10  # [yr] Note: For probabilistic projections, use a duration that is divisible by the save_frequency\n",
    "save_frequency = 1  # [yr] Time step for probability calculations\n",
    "MHW_init = 0.39  # [m NAVD88] Initial mean high water\n",
    "\n",
    "duplicates = 3  # Number of duplicate simulations for each ExSE bin combination to account for intrinsic stochasticity\n",
    "\n",
    "# Define Horizontal and Vertical References of Domain\n",
    "alongshore_domain_boundary_min=250  # [cellsize] Alongshore minimum coordinate\n",
    "alongshore_domain_boundary_max=375  # [cellsize] Alongshore maximum coordinate\n",
    "crossshore_domain_boundary_min=50  # [cellsize] Cross-shore minimum coordinate\n",
    "crossshore_domain_boundary_max=425  # [cellsize] Cross-shore maximum coordinate\n",
    "cellsize = 2  # [m] Horizontal cell dimensions\n",
    "\n",
    "name = '16Sep24, 250-375, 2018-2028, n=3'  # Name of simulation suite"
   ]
  },
  {
   "cell_type": "markdown",
   "id": "db2fa9aa-5cf0-4b9c-b041-aa9e13d1a2de",
   "metadata": {},
   "source": [
    "To reduce memory costs, we will load the initial elevation file once and pass it to the simulations, rather than have each individual simulation load it on their own."
   ]
  },
  {
   "cell_type": "code",
   "execution_count": null,
   "id": "f013a5c4-f5ff-4bbf-a29a-1beebb33ea2f",
   "metadata": {},
   "outputs": [],
   "source": [
    "# Load Initial Domains\n",
    "Init = np.load(\"Input/\" + start)\n",
    "topo_start = Init[0, alongshore_domain_boundary_min: alongshore_domain_boundary_max, crossshore_domain_boundary_min: crossshore_domain_boundary_max]\n",
    "spec1_start = Init[1, alongshore_domain_boundary_min: alongshore_domain_boundary_max, crossshore_domain_boundary_min: crossshore_domain_boundary_max]\n",
    "spec2_start = Init[2, alongshore_domain_boundary_min: alongshore_domain_boundary_max, crossshore_domain_boundary_min: crossshore_domain_boundary_max]\n",
    "longshore, crossshore = topo_start.shape\n",
    "\n",
    "# Count the total number times data will be saved throughout each simulation\n",
    "num_saves = int(np.floor(sim_duration/save_frequency)) + 1"
   ]
  },
  {
   "cell_type": "markdown",
   "id": "6d599153-9848-410a-8c87-3e6b65578ca7",
   "metadata": {},
   "source": [
    "## Define Probabilistic Functions\n",
    "\n",
    "The following functions run multiple duplicate simulations across each external stochastic element bin, and return arrays that classify each cell in the model domain through time. The intricacies of these functions are outside the scope of this tutorial.\n",
    "\n",
    "The following functions 1) run an individual simulation and classify the domain for each timestep, and 2) run a batch of duplicate simulations for each RSLR bin in parallel and calculate the final joint probability across multiple RSLR bins and batch simulations. This last function, `class_probability()` is called to run the probabilistic projection."
   ]
  },
  {
   "cell_type": "code",
   "execution_count": null,
   "id": "cff48652-cbcd-4a35-8f03-04889dd14fd3",
   "metadata": {},
   "outputs": [],
   "source": [
    "def run_individual_sim(rslr, shift_mean_storm_intensity):\n",
    "    \"\"\"Runs uniqe individual MEEB simulation.\"\"\"\n",
    "\n",
    "    # Create an instance of the MEEB class\n",
    "    meeb = MEEB(\n",
    "        name=name,\n",
    "        seeded_random_numbers=False,  # This must be false to produce true randomness of natural processes\n",
    "        simulation_start_date=startdate,\n",
    "        simulation_time_yr=sim_duration,\n",
    "        alongshore_domain_boundary_min=alongshore_domain_boundary_min,\n",
    "        alongshore_domain_boundary_max=alongshore_domain_boundary_max,\n",
    "        crossshore_domain_boundary_min=crossshore_domain_boundary_min,\n",
    "        crossshore_domain_boundary_max=crossshore_domain_boundary_max,\n",
    "        cellsize=cellsize,\n",
    "        RSLR=rslr,\n",
    "        shift_mean_storm_intensity_start=shift_mean_storm_intensity[0],\n",
    "        shift_mean_storm_intensity_end=shift_mean_storm_intensity[1],\n",
    "        MHW=MHW_init,\n",
    "        save_frequency=save_frequency,\n",
    "        init_by_file=False,  # This inputs elevation and vegetation directly from numpy array\n",
    "        init_elev_array=topo_start,  # Numpy init elevation array\n",
    "        init_spec1_array=spec1_start,  # Numpy init veg species 1 density array\n",
    "        init_spec2_array=spec2_start,  # Numpy init veg species 2 density array\n",
    "        saltation_length=2,  # [cells] Hop length for saltating slabs of sand\n",
    "        saltation_length_rand_deviation=1,  # [cells] Deviation around saltation_length for random uniform distribution of saltation lengths\n",
    "        overwash_substeps=25,\n",
    "    )\n",
    "\n",
    "    # Loop through time\n",
    "    for time_step in range(int(meeb.iterations)):\n",
    "        # Run time step\n",
    "        meeb.update(time_step)\n",
    "\n",
    "    classification = []\n",
    "    # Create classified maps\n",
    "    classification.append(classify_topo_change(meeb.topo_TS.shape[2], meeb.topo_TS))\n",
    "    classification.append(classify_overwash_frequency(meeb.topo_TS.shape[2], meeb.storm_inundation_TS, meeb.topo_TS, meeb.MHW_TS))\n",
    "\n",
    "    \n",
    "    return classification\n",
    "\n",
    "\n",
    "def class_probability():\n",
    "    \"\"\"Runs a batch of duplicate simulations, for a range of scenarios for external forcing, to find the joint classification probability\n",
    "    from stochastic processes intrinsic to the system and external stochastic drivers.\"\"\"\n",
    "\n",
    "    # Create array of simulations of all parameter combinations and duplicates\n",
    "    sims = np.zeros([2, len(ExSE_A_bins) * len(ExSE_B_bins)], dtype=np.int16)\n",
    "    col = 0\n",
    "    for a in reversed(range(len(ExSE_A_bins))):  # Run likely longest simulations (i.e., largest RSLR and storm intensity) first\n",
    "        for b in reversed(range(len(ExSE_B_bins))):\n",
    "            sims[0, col] = a\n",
    "            sims[1, col] = b\n",
    "            col += 1\n",
    "\n",
    "    sims = np.repeat(sims, duplicates, axis=1)\n",
    "    sims = sims.astype(int)\n",
    "    num_sims = np.arange(sims.shape[1])\n",
    "\n",
    "    # Run through simulations\n",
    "    # This tutorial DOES NOT RUN THE SIMULATIONS IN PARALLEL, which makes it easier to understand but very slow\n",
    "    # See /Tools/run_MEEB_Probabilistic.py for running in parallel using Joblib\n",
    "    class_duplicates = []\n",
    "    for i in tqdm(num_sims):\n",
    "        out = run_individual_sim(ExSE_A_bins[sims[0, i]], ExSE_B_bins[sims[1, i]])\n",
    "        class_duplicates.append(out)\n",
    "    \n",
    "    # ============================================================================================================\n",
    "\n",
    "    joint_probabilities = []\n",
    "\n",
    "    # Elevation\n",
    "    joint_prob_elev = np.zeros([elev_num_classes, num_saves, longshore, crossshore], dtype=np.float16)\n",
    "\n",
    "    # Loop through each external scenario\n",
    "    for scenario in range(len(ExSE_A_bins) * len(ExSE_B_bins)):\n",
    "        sim_num_start = scenario * duplicates\n",
    "        sim_num_stop = sim_num_start + duplicates\n",
    "\n",
    "        exse_a = sims[0, sim_num_start]\n",
    "        exse_b = sims[1, sim_num_start]\n",
    "        scenario_prob = ExSE_A_prob[exse_a] * ExSE_B_prob[exse_b]\n",
    "\n",
    "        for c in range(elev_num_classes):\n",
    "            for ts in range(num_saves):\n",
    "                class_sum_ts = np.zeros([longshore, crossshore], dtype=np.float16)\n",
    "                for n in range(sim_num_start, sim_num_stop):\n",
    "                    class_sum_ts += (class_duplicates[n][0][ts, :, :] == c)\n",
    "                joint_prob_elev[c, ts, :, :] += (class_sum_ts / duplicates) * scenario_prob\n",
    "\n",
    "    joint_probabilities.append(joint_prob_elev)\n",
    "\n",
    "    # Overwash Inundation Count\n",
    "    joint_prob_ow = np.zeros([num_saves, longshore, crossshore], dtype=np.float16)\n",
    "\n",
    "    # Loop through each external scenario\n",
    "    for scenario in range(len(ExSE_A_bins) * len(ExSE_B_bins)):\n",
    "        sim_num_start = scenario * duplicates\n",
    "        sim_num_stop = sim_num_start + duplicates\n",
    "\n",
    "        exse_a = sims[0, sim_num_start]\n",
    "        exse_b = sims[1, sim_num_start]\n",
    "        scenario_prob = ExSE_A_prob[exse_a] * ExSE_B_prob[exse_b]\n",
    "\n",
    "        for ts in range(num_saves):\n",
    "            class_sum_ts = np.zeros([longshore, crossshore], dtype=np.float16)\n",
    "            for n in range(sim_num_start, sim_num_stop):\n",
    "                class_sum_ts += class_duplicates[n][1][ts, :, :]\n",
    "            joint_prob_ow[ts, :, :] += (class_sum_ts / duplicates) * scenario_prob\n",
    "\n",
    "    joint_probabilities.append(joint_prob_ow)\n",
    "\n",
    "    return joint_probabilities"
   ]
  },
  {
   "cell_type": "markdown",
   "id": "709d7d01-2eb8-42c9-b4b8-cb92aa56ba02",
   "metadata": {},
   "source": [
    "These next two functions classify the model domain at a particular timestep according to 1) the change in elevation relative to simulation start, and 2) the cumulative number of times each cell is inundated by a high-water event."
   ]
  },
  {
   "cell_type": "code",
   "execution_count": null,
   "id": "b679e5c2-8be3-4105-8cd0-eaec0d5079b1",
   "metadata": {},
   "outputs": [],
   "source": [
    "\n",
    "def classify_topo_change(TS, topo_TS):\n",
    "    \"\"\"Classify according to range of elevation change.\"\"\"\n",
    "\n",
    "    topo_change_bin = np.zeros([num_saves, longshore, crossshore], dtype=np.int8)\n",
    "\n",
    "    for b in range(len(elev_class_edges) - 1):\n",
    "        lower = elev_class_edges[b]\n",
    "        upper = elev_class_edges[b + 1]\n",
    "\n",
    "        for ts in range(TS):\n",
    "            bin_change = np.logical_and(\n",
    "                lower < (topo_TS[:, :, ts] - topo_TS[:, :, 0]) * (topo_TS[:, :, -1] > MHW_init),\n",
    "                (topo_TS[:, :, ts] - topo_TS[:, :, 0]) * (topo_TS[:, :, -1] > MHW_init) <= upper\n",
    "            ).astype(np.int8)\n",
    "            topo_change_bin[ts, :, :] += bin_change * b\n",
    "\n",
    "    return topo_change_bin\n",
    "\n",
    "\n",
    "def classify_overwash_frequency(TS, inundation_TS, topo, mhw_ts):\n",
    "    \"\"\"Classify according to number of times inundated from storm overwash.\"\"\"\n",
    "\n",
    "    overwash = np.zeros([num_saves, longshore, crossshore], dtype=np.int16)\n",
    "\n",
    "    for ts in range(TS):\n",
    "        MHW = mhw_ts[ts]\n",
    "        storm_inun = inundation_TS[:, :, ts].astype(np.int16)\n",
    "        storm_inun[topo[:, :, ts] < MHW] = 0\n",
    "        if ts == 0:\n",
    "            overwash[ts, :, :] += storm_inun\n",
    "        else:\n",
    "            overwash[ts, :, :] += storm_inun + overwash[ts - 1, :, :]  # Cumulative\n",
    "\n",
    "    return overwash"
   ]
  },
  {
   "cell_type": "markdown",
   "id": "4f120247-c87e-4d78-aab4-43a766870e88",
   "metadata": {},
   "source": [
    "## Run the Probabilistic Projection\n",
    "\n",
    "Finally, use the `class_probability()` function to run the probabilistic projection. This may take a while (3 - 8 minutes) given that you are running a batch of `3 * 3 = 9` total simulations.\n",
    "\n",
    "The function returns the list `elev_class_probabilities`, which can be unwrapped to derive:\n",
    "\n",
    "1. `elev_class_probabilities`, an array of the *probability of each elevation class across space and time* in the following format: `[class, save_timestep, crossshore, alongshore]`\n",
    "\n",
    "2. `inundation_class_probabilities`, an array of *cumulative inundation count across space and time* in the following format: `[save_timestep, crossshore, alongshore]`"
   ]
  },
  {
   "cell_type": "code",
   "execution_count": null,
   "id": "4f47ba6f-aa59-46db-9348-d10a89230616",
   "metadata": {
    "scrolled": true
   },
   "outputs": [],
   "source": [
    "joint_class_probabilities = class_probability()\n",
    "\n",
    "elevation_class_probabilities = joint_class_probabilities[0]\n",
    "overwash_class_probabilities = joint_class_probabilities[1]"
   ]
  },
  {
   "cell_type": "markdown",
   "id": "8644fc41-df71-496e-ab6b-09e830c188ec",
   "metadata": {},
   "source": [
    "## Explore Model Results\n",
    "\n",
    "Once the model finishes, we can plot results from the class probability arrays.\n",
    "\n",
    "### Most Likely Change in Elevation\n",
    "The following function plots the most likely class across the model domain at a specified timestep (`it`)."
   ]
  },
  {
   "cell_type": "code",
   "execution_count": null,
   "id": "95eea745-9bd8-4438-96cf-4b71e511f388",
   "metadata": {},
   "outputs": [],
   "source": [
    "def plot_most_probable_class(class_probabilities, class_cmap, class_labels, it, orientation='vertical'):\n",
    "    \"\"\"Plots the most probable class across the domain at a particular time step, with separate panel indicating confidence\n",
    "    in most likely class prediction. Note: this returns the first max occurance, i.e. if multiple bins are tied for the \n",
    "    maximum probability of occuring, the first one will be plotted as the most likely.\n",
    "\n",
    "    Parameters\n",
    "    ----------\n",
    "    class_probabilities : ndarray\n",
    "        Probabilities of each class over space and time.\n",
    "    class_cmap\n",
    "        Discrete colormap for plotting classes.\n",
    "    class_labels : list\n",
    "        List of class names.\n",
    "    it : int\n",
    "        Iteration to draw probabilities from.\n",
    "    orientation : str\n",
    "        ['vertical' or 'horizontal'] Orientation to plot domain: vertical will plot ocean along left edge of domain, 'horizontal' along bottom.\n",
    "    \"\"\"\n",
    "\n",
    "    num_classes = class_probabilities.shape[0]\n",
    "    mmax_idx = np.argmax(class_probabilities[:, it, :, :], axis=0)  # Find most likely class\n",
    "    confidence = np.max(class_probabilities[:, it, :, :], axis=0)  # Find confidence, i.e. probability of most likely class\n",
    "    min_confidence = 1 / num_classes\n",
    "\n",
    "    # Determine whether to plot barrier horizontally or vertically\n",
    "    if orientation == 'vertical':\n",
    "        Fig = plt.figure(figsize=(8, 10))\n",
    "        ax1 = Fig.add_subplot(121)\n",
    "        ax2 = Fig.add_subplot(122)\n",
    "    elif orientation == 'horizontal':\n",
    "        mmax_idx = np.rot90(mmax_idx, k=1)\n",
    "        confidence = np.rot90(confidence, k=1)\n",
    "        Fig = plt.figure(figsize=(14, 10))\n",
    "        ax1 = Fig.add_subplot(211)\n",
    "        ax2 = Fig.add_subplot(212)\n",
    "    else:\n",
    "        raise ValueError(\"Orientation invalid, must use 'vertical' or 'horizontal'\")\n",
    "\n",
    "    cax1 = ax1.matshow(mmax_idx, cmap=class_cmap, vmin=0, vmax=num_classes - 1)  # Plot most likely class\n",
    "    tic = np.linspace(start=((num_classes - 1) / num_classes) / 2, stop=num_classes - 1 - ((num_classes - 1) / num_classes) / 2, num=num_classes)\n",
    "    mcbar = Fig.colorbar(cax1, ticks=tic)\n",
    "    mcbar.ax.set_yticklabels(class_labels) # Label colorbar with class names\n",
    "    plt.xlabel('Alongshore Distance [m]')\n",
    "    plt.ylabel('Cross-Shore Distance [m]')\n",
    "\n",
    "    cax2 = ax2.matshow(confidence, cmap=cmap_conf, vmin=min_confidence, vmax=1)  # Plot confidence in most likely class\n",
    "    Fig.colorbar(cax2)\n",
    "    plt.xlabel('Alongshore Distance [m]')\n",
    "    plt.ylabel('Cross-Shore Distance [m]')\n",
    "\n",
    "    plt.tight_layout()"
   ]
  },
  {
   "cell_type": "markdown",
   "id": "f4414001-2466-4db1-bffe-6251d060069c",
   "metadata": {},
   "source": [
    "Now plot the most likely ***change in elevation*** between the initial timestep and the last (i.e., `it=-1`):"
   ]
  },
  {
   "cell_type": "code",
   "execution_count": null,
   "id": "6fb9aa53-4743-4ab2-a1c7-171039980871",
   "metadata": {},
   "outputs": [],
   "source": [
    "plot_most_probable_class(elevation_class_probabilities, elev_class_cmap, elev_class_labels, it=-1, orientation='horizontal')"
   ]
  },
  {
   "cell_type": "markdown",
   "id": "ebc36bc4-3e86-450b-ba71-c3858db2e0fa",
   "metadata": {},
   "source": [
    "### Frequency of Inundation\n",
    "As another example, we can plot the cumulative number of times each cell has been inundated in a high-water event at a specific model iteration (`it`) using the following function."
   ]
  },
  {
   "cell_type": "code",
   "execution_count": null,
   "id": "c164cd39-4793-46ce-ab1e-fde66d70655f",
   "metadata": {},
   "outputs": [],
   "source": [
    "def plot_class_frequency(class_probabilities, it, class_label, orientation='vertical'):\n",
    "    \"\"\"Plots the frequency of a class (e.g., overwash inundation) across the domain at a particular time step.\n",
    "\n",
    "    Parameters\n",
    "    ----------\n",
    "    class_probabilities : ndarray\n",
    "        Probabilities of a class over space and time.\n",
    "    it : int\n",
    "        Iteration to draw probabilities from.\n",
    "    class_label : str\n",
    "        Name/description of class for labeling colorbar.\n",
    "    orientation : str\n",
    "        ['vertical' or 'horizontal'] Orientation to plot domain: vertical will plot ocean along left edge of domain, 'horizontal' along bottom.\n",
    "    \"\"\"\n",
    "\n",
    "    inun_prob = class_probabilities[it, :, :]\n",
    "\n",
    "    if orientation == 'vertical':\n",
    "        Fig = plt.figure(figsize=(8, 10))\n",
    "        ax1 = Fig.add_subplot(111)\n",
    "    elif orientation == 'horizontal':\n",
    "        inun_prob = np.rot90(inun_prob, k=1)\n",
    "        Fig = plt.figure(figsize=(14, 10))\n",
    "        ax1 = Fig.add_subplot(111)\n",
    "    else:\n",
    "        raise ValueError(\"plot_most_probable_class: orientation invalid, must use 'vertical' or 'horizontal'\")\n",
    "\n",
    "    cmap_class_freq = plt.get_cmap('inferno', int(np.max(inun_prob)))\n",
    "\n",
    "    print(int(np.max(inun_prob)))\n",
    "\n",
    "    im_ratio = inun_prob.shape[0] / inun_prob.shape[1]\n",
    "    cax1 = ax1.matshow(inun_prob, cmap=cmap_class_freq, norm=colors.LogNorm())\n",
    "    cb_label = 'Number of ' + class_label\n",
    "    Fig.colorbar(cax1, label=cb_label, fraction=0.046 * im_ratio)\n",
    "    plt.xlabel('Meters Alongshore')\n",
    "    plt.ylabel('Meters Cross-Shore')\n",
    "\n",
    "    plt.tight_layout()"
   ]
  },
  {
   "cell_type": "markdown",
   "id": "a3d377cd-86be-4d8b-ab1f-676bc9b798db",
   "metadata": {},
   "source": [
    "Now plot the frequency of ***inundation*** at the end of the forecast (`it=-1`):"
   ]
  },
  {
   "cell_type": "code",
   "execution_count": null,
   "id": "0d549d93-c965-42a6-a9f8-e6c1c1900460",
   "metadata": {},
   "outputs": [],
   "source": [
    "plot_class_frequency(overwash_class_probabilities, it=-1, class_label='Overwash Events', orientation='horizontal')"
   ]
  },
  {
   "cell_type": "markdown",
   "id": "65875710-b0e5-43eb-a664-ca076e540168",
   "metadata": {},
   "source": [
    "## Want to Learn More?\n",
    "\n",
    "Hopefully you now have a good idea how to run a probabilistic *MEEB* simulation. You can explore the effects different parameter values or settings by altering the parameters values/settings in the Simulation Specifications (box 6) or the instantiation of the `MEEB` class (box 8). Try not to make the simulations too long or large for this tutorial, particularly since individual simulations are not run in parallel in this Notebook.\n",
    "\n",
    "`MEEB` can also be run to generate ***deterministic*** projections of future change. For a tutorial on running *MEEB* deterministically, see the `run_MEEB_Deterministic.ipynb` notebook located in the `Notebooks` folder.\n",
    "\n",
    "MEEB is described in detail in the paper: *Reeves, I. R. B., Ashton, A. D., Lentz, E. L., Sherwood, C. R., Passeri, D. L., & Zeigler., S. L. (in review). Projecting management-relevant change of undeveloped coastal barriers with the Mesoscale Explicit Ecogeomorphic Barrier model (MEEB) v1.0: Geoscientific Model Development Discussions (preprint), https://doi.org/10.5194%2Fgmd-2024-232* "
   ]
  }
 ],
 "metadata": {
  "kernelspec": {
   "display_name": "Python 3 (ipykernel)",
   "language": "python",
   "name": "python3"
  },
  "language_info": {
   "codemirror_mode": {
    "name": "ipython",
    "version": 3
   },
   "file_extension": ".py",
   "mimetype": "text/x-python",
   "name": "python",
   "nbconvert_exporter": "python",
   "pygments_lexer": "ipython3",
   "version": "3.11.4"
  }
 },
 "nbformat": 4,
 "nbformat_minor": 5
}
